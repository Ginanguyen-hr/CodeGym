{
 "cells": [
  {
   "cell_type": "code",
   "execution_count": 1,
   "id": "0690dc6f-3d87-4a25-bc4d-d2dc4bcfcb1d",
   "metadata": {},
   "outputs": [],
   "source": [
    "import turtle\n",
    "import math"
   ]
  },
  {
   "cell_type": "code",
   "execution_count": 4,
   "id": "01dbf8d7-47cd-4f00-80d9-e3e713094fae",
   "metadata": {},
   "outputs": [
    {
     "name": "stdin",
     "output_type": "stream",
     "text": [
      "Enter the radius:  100\n"
     ]
    }
   ],
   "source": [
    "r = int(input(\"Enter the radius: \"))"
   ]
  },
  {
   "cell_type": "code",
   "execution_count": 6,
   "id": "c5e055b3-285e-4800-899d-83c1783f5c0c",
   "metadata": {},
   "outputs": [],
   "source": [
    "t = turtle.Turtle()\n",
    "t.hideturtle()\n",
    "t.pensize(1)\n",
    "t.color(\"red\")\n",
    "t.circle(r)\n",
    "turtle.done()"
   ]
  },
  {
   "cell_type": "code",
   "execution_count": 7,
   "id": "cc9c2f88-6672-42cb-9653-b5e1ef9fa7eb",
   "metadata": {},
   "outputs": [
    {
     "name": "stdout",
     "output_type": "stream",
     "text": [
      "Chu vi của hình tròn có bán kính = 100 là 628.3185307179587\n",
      "Diện tích của hình tròn có bán kính = 100 là 31415.926535897932\n"
     ]
    }
   ],
   "source": [
    "c = 2 * math.pi * r\n",
    "s = math.pi * r * r\n",
    "print(\"Chu vi của hình tròn có bán kính = {r} là {c}\".format(r=r, c=c))\n",
    "print(\"Diện tích của hình tròn có bán kính = {r} là {s}\".format(r=r, s=s))"
   ]
  },
  {
   "cell_type": "code",
   "execution_count": null,
   "id": "170841d9-f623-4f86-ac83-739a1c25ebc2",
   "metadata": {},
   "outputs": [],
   "source": []
  }
 ],
 "metadata": {
  "kernelspec": {
   "display_name": "Python [conda env:base] *",
   "language": "python",
   "name": "conda-base-py"
  },
  "language_info": {
   "codemirror_mode": {
    "name": "ipython",
    "version": 3
   },
   "file_extension": ".py",
   "mimetype": "text/x-python",
   "name": "python",
   "nbconvert_exporter": "python",
   "pygments_lexer": "ipython3",
   "version": "3.13.5"
  }
 },
 "nbformat": 4,
 "nbformat_minor": 5
}
