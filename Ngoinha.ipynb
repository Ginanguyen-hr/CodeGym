{
 "cells": [
  {
   "cell_type": "code",
   "execution_count": null,
   "id": "bb4afb28-1e7a-4b15-bd30-a56fc919235a",
   "metadata": {},
   "outputs": [],
   "source": [
    "import turtle\n",
    "screen = turtle.Screen()\n",
    "screen.bgcolor(\"lightblue\")\n",
    "pen = turtle.Turtle()\n",
    "pen.speed(3)\n",
    "def draw_rectangle(t, width, height, color):\n",
    "    t.begin_fill()\n",
    "    t.fillcolor(color)\n",
    "    for _ in range(2):\n",
    "        t.forward(width)\n",
    "        t.left(90)\n",
    "        t.forward(height)\n",
    "        t.left(90)\n",
    "    t.end_fill()\n",
    "pen.penup()\n",
    "pen.goto(-100, -150)\n",
    "pen.pendown()\n",
    "draw_rectangle(pen, 200, 150, \"burlywood\")\n",
    "pen.penup()\n",
    "pen.goto(-100, 0)\n",
    "pen.pendown()\n",
    "pen.begin_fill()\n",
    "pen.fillcolor(\"brown\")\n",
    "pen.goto(0, 100)\n",
    "pen.goto(100, 0)\n",
    "pen.goto(-100, 0)\n",
    "pen.end_fill()\n",
    "pen.penup()\n",
    "pen.goto(-30, -150)\n",
    "pen.pendown()\n",
    "draw_rectangle(pen, 60, 90, \"saddlebrown\")\n",
    "pen.penup()\n",
    "pen.goto(-80, -50)\n",
    "pen.pendown()\n",
    "draw_rectangle(pen, 40, 40, \"skyblue\")\n",
    "pen.penup()\n",
    "pen.goto(40, -50)\n",
    "pen.pendown()\n",
    "draw_rectangle(pen, 40, 40, \"skyblue\")\n",
    "pen.hideturtle()\n",
    "screen.mainloop()"
   ]
  },
  {
   "cell_type": "code",
   "execution_count": null,
   "id": "8ac9c8c3-6f78-49d2-88cc-7827f2ebc16b",
   "metadata": {},
   "outputs": [],
   "source": []
  },
  {
   "cell_type": "code",
   "execution_count": null,
   "id": "00e9d308-cf2a-4414-80b0-586b00955548",
   "metadata": {},
   "outputs": [],
   "source": []
  }
 ],
 "metadata": {
  "kernelspec": {
   "display_name": "Python [conda env:base] *",
   "language": "python",
   "name": "conda-base-py"
  },
  "language_info": {
   "codemirror_mode": {
    "name": "ipython",
    "version": 3
   },
   "file_extension": ".py",
   "mimetype": "text/x-python",
   "name": "python",
   "nbconvert_exporter": "python",
   "pygments_lexer": "ipython3",
   "version": "3.13.5"
  }
 },
 "nbformat": 4,
 "nbformat_minor": 5
}
