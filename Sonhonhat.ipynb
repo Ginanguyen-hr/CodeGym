{
 "cells": [
  {
   "cell_type": "code",
   "execution_count": 1,
   "id": "a3fd8200-2f0b-4666-b55f-25d52f249d98",
   "metadata": {},
   "outputs": [
    {
     "name": "stdin",
     "output_type": "stream",
     "text": [
      "Nhập các số cách nhau bởi dấu cách:  30 22 12  9 1\n"
     ]
    },
    {
     "name": "stdout",
     "output_type": "stream",
     "text": [
      "Số nhỏ nhất là: 1\n"
     ]
    }
   ],
   "source": [
    "def get_min_number(numbers):\n",
    "    result = numbers[0] \n",
    "    for num in numbers:\n",
    "        if result > num:\n",
    "            result = num \n",
    "    return result \n",
    "numbers = list(map(int, input(\"Nhập các số cách nhau bởi dấu cách: \").split()))\n",
    "min_number = get_min_number(numbers)\n",
    "print(\"Số nhỏ nhất là:\", min_number)"
   ]
  },
  {
   "cell_type": "code",
   "execution_count": null,
   "id": "3d975661-254d-459e-9538-d1ef5e73b32d",
   "metadata": {},
   "outputs": [],
   "source": []
  }
 ],
 "metadata": {
  "kernelspec": {
   "display_name": "Python [conda env:base] *",
   "language": "python",
   "name": "conda-base-py"
  },
  "language_info": {
   "codemirror_mode": {
    "name": "ipython",
    "version": 3
   },
   "file_extension": ".py",
   "mimetype": "text/x-python",
   "name": "python",
   "nbconvert_exporter": "python",
   "pygments_lexer": "ipython3",
   "version": "3.13.5"
  }
 },
 "nbformat": 4,
 "nbformat_minor": 5
}
