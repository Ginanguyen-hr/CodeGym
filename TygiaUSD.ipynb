{
 "cells": [
  {
   "cell_type": "code",
   "execution_count": 1,
   "id": "8fa11e05-7c5b-4b26-9db1-e117d27b08c5",
   "metadata": {},
   "outputs": [
    {
     "name": "stdin",
     "output_type": "stream",
     "text": [
      "Nhập số tiền USD cần đổi:  1000\n",
      "Nhập tỉ giá USD/VND:  25.230\n"
     ]
    },
    {
     "name": "stdout",
     "output_type": "stream",
     "text": [
      "Số tiền VND tương ứng: 25,230 VND\n"
     ]
    }
   ],
   "source": [
    "usd = float(input(\"Nhập số tiền USD cần đổi: \"))\n",
    "ty_gia = float(input(\"Nhập tỉ giá USD/VND: \"))\n",
    "vnd = usd * ty_gia\n",
    "print(f\"Số tiền VND tương ứng: {vnd:,.0f} VND\")"
   ]
  },
  {
   "cell_type": "code",
   "execution_count": null,
   "id": "2ea498a3-09b8-4a34-b15d-12c06689033d",
   "metadata": {},
   "outputs": [],
   "source": []
  }
 ],
 "metadata": {
  "kernelspec": {
   "display_name": "Python [conda env:base] *",
   "language": "python",
   "name": "conda-base-py"
  },
  "language_info": {
   "codemirror_mode": {
    "name": "ipython",
    "version": 3
   },
   "file_extension": ".py",
   "mimetype": "text/x-python",
   "name": "python",
   "nbconvert_exporter": "python",
   "pygments_lexer": "ipython3",
   "version": "3.13.5"
  }
 },
 "nbformat": 4,
 "nbformat_minor": 5
}
