{
 "cells": [
  {
   "cell_type": "code",
   "execution_count": 1,
   "id": "68c0bacf-b072-464d-8acd-f5aa52b5ca83",
   "metadata": {},
   "outputs": [
    {
     "name": "stdout",
     "output_type": "stream",
     "text": [
      "Người chơi bắt đầu: computer\n",
      "Số hiện tại: 0\n",
      "Máy chọn: 2\n",
      "Số hiện tại: 2\n"
     ]
    },
    {
     "name": "stdin",
     "output_type": "stream",
     "text": [
      "Chọn số (1, 2 hoặc 3):  2\n"
     ]
    },
    {
     "name": "stdout",
     "output_type": "stream",
     "text": [
      "Số hiện tại: 4\n",
      "Máy chọn: 1\n",
      "Số hiện tại: 5\n"
     ]
    },
    {
     "name": "stdin",
     "output_type": "stream",
     "text": [
      "Chọn số (1, 2 hoặc 3):  3\n"
     ]
    },
    {
     "name": "stdout",
     "output_type": "stream",
     "text": [
      "Số hiện tại: 8\n",
      "Máy chọn: 2\n",
      "Số hiện tại: 10\n"
     ]
    },
    {
     "name": "stdin",
     "output_type": "stream",
     "text": [
      "Chọn số (1, 2 hoặc 3):  8\n",
      "Chọn số (1, 2 hoặc 3):  2\n"
     ]
    },
    {
     "name": "stdout",
     "output_type": "stream",
     "text": [
      "Số hiện tại: 12\n",
      "Máy chọn: 1\n",
      "Số hiện tại: 13\n"
     ]
    },
    {
     "name": "stdin",
     "output_type": "stream",
     "text": [
      "Chọn số (1, 2 hoặc 3):  1\n"
     ]
    },
    {
     "name": "stdout",
     "output_type": "stream",
     "text": [
      "Số hiện tại: 14\n",
      "Máy chọn: 1\n",
      "Số hiện tại: 15\n"
     ]
    },
    {
     "name": "stdin",
     "output_type": "stream",
     "text": [
      "Chọn số (1, 2 hoặc 3):  3\n"
     ]
    },
    {
     "name": "stdout",
     "output_type": "stream",
     "text": [
      "Số hiện tại: 18\n",
      "Máy chọn: 1\n",
      "Số hiện tại: 19\n"
     ]
    },
    {
     "name": "stdin",
     "output_type": "stream",
     "text": [
      "Chọn số (1, 2 hoặc 3):  2\n"
     ]
    },
    {
     "name": "stdout",
     "output_type": "stream",
     "text": [
      "Số hiện tại: 21\n",
      "Bạn đã thua!\n"
     ]
    },
    {
     "name": "stdin",
     "output_type": "stream",
     "text": [
      "Bạn có muốn chơi lại không? (y/n):  n\n"
     ]
    },
    {
     "name": "stdout",
     "output_type": "stream",
     "text": [
      "Cảm ơn bạn đã chơi!\n"
     ]
    }
   ],
   "source": [
    "import random\n",
    "while True:\n",
    "    current_number = 0\n",
    "    current_player = \"human\" if random.randint(0, 1) == 0 else \"computer\"\n",
    "    print(f\"Người chơi bắt đầu: {current_player}\")\n",
    "    while current_number < 21:\n",
    "        print(f\"Số hiện tại: {current_number}\")\n",
    "        if current_player == \"human\":\n",
    "            player_choice = \"\"\n",
    "            while player_choice not in ['1', '2', '3']:\n",
    "                player_choice = input(\"Chọn số (1, 2 hoặc 3): \")\n",
    "            player_choice = int(player_choice)\n",
    "            current_number += player_choice\n",
    "            if current_number >= 21:\n",
    "                print(f\"Số hiện tại: {current_number}\")\n",
    "                print(\"Bạn đã thua!\")\n",
    "                break\n",
    "            else:\n",
    "                current_player = \"computer\"\n",
    "        else:  \n",
    "            computer_choice = random.randint(1, 3)\n",
    "            print(f\"Máy chọn: {computer_choice}\")\n",
    "            current_number += computer_choice\n",
    "            if current_number >= 21:\n",
    "                print(f\"Số hiện tại: {current_number}\")\n",
    "                print(\"Bạn đã thắng!\")\n",
    "                break\n",
    "            else:\n",
    "                current_player = \"human\"\n",
    "    play_again = input(\"Bạn có muốn chơi lại không? (y/n): \").lower()\n",
    "    if not play_again.startswith('y'):\n",
    "        print(\"Cảm ơn bạn đã chơi!\")\n",
    "        break"
   ]
  },
  {
   "cell_type": "code",
   "execution_count": null,
   "id": "2cf5fc00-ef3f-40c1-96f4-d3405c27e1c1",
   "metadata": {},
   "outputs": [],
   "source": []
  }
 ],
 "metadata": {
  "kernelspec": {
   "display_name": "Python [conda env:base] *",
   "language": "python",
   "name": "conda-base-py"
  },
  "language_info": {
   "codemirror_mode": {
    "name": "ipython",
    "version": 3
   },
   "file_extension": ".py",
   "mimetype": "text/x-python",
   "name": "python",
   "nbconvert_exporter": "python",
   "pygments_lexer": "ipython3",
   "version": "3.13.5"
  }
 },
 "nbformat": 4,
 "nbformat_minor": 5
}
