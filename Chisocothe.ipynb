{
 "cells": [
  {
   "cell_type": "code",
   "execution_count": 3,
   "id": "12d9b2e8-3700-4068-bdb7-8b0cd19f711e",
   "metadata": {},
   "outputs": [
    {
     "name": "stdin",
     "output_type": "stream",
     "text": [
      "Nhập chiều cao của bạn (đơn vị: mét):  1.56\n",
      "Nhập cân nặng của bạn (đơn vị: kg):  56\n"
     ]
    },
    {
     "name": "stdout",
     "output_type": "stream",
     "text": [
      "Chỉ số BMI của bạn là: 23.01\n",
      "Bình thường\n"
     ]
    }
   ],
   "source": [
    "height = float(input(\"Nhập chiều cao của bạn (đơn vị: mét): \"))\n",
    "weight = float(input(\"Nhập cân nặng của bạn (đơn vị: kg): \"))\n",
    "\n",
    "bmi = weight / (height ** 2)\n",
    "\n",
    "print(\"Chỉ số BMI của bạn là:\", round(bmi, 2))\n",
    "\n",
    "if bmi > 40:\n",
    "    print(\"Béo phì cấp độ III\")\n",
    "elif 35 <= bmi < 40:\n",
    "    print(\"Béo phì cấp độ II\")\n",
    "elif 30 <= bmi < 35:\n",
    "    print(\"Béo phì cấp độ I\")\n",
    "elif 25 <= bmi < 30:\n",
    "    print(\"Thừa cân\")\n",
    "elif 18.5 <= bmi < 25:\n",
    "    print(\"Bình thường\")\n",
    "elif 17 <= bmi < 18.5:\n",
    "    print(\"Gầy cấp độ I\")\n",
    "elif 16 <= bmi < 17:\n",
    "    print(\"Gầy cấp độ II\")\n",
    "else:  # bmi < 16\n",
    "    print(\"Gầy cấp độ III\")"
   ]
  },
  {
   "cell_type": "code",
   "execution_count": null,
   "id": "c5118be1-143a-46be-bb5d-be00d66d661b",
   "metadata": {},
   "outputs": [],
   "source": []
  }
 ],
 "metadata": {
  "kernelspec": {
   "display_name": "Python [conda env:base] *",
   "language": "python",
   "name": "conda-base-py"
  },
  "language_info": {
   "codemirror_mode": {
    "name": "ipython",
    "version": 3
   },
   "file_extension": ".py",
   "mimetype": "text/x-python",
   "name": "python",
   "nbconvert_exporter": "python",
   "pygments_lexer": "ipython3",
   "version": "3.13.5"
  }
 },
 "nbformat": 4,
 "nbformat_minor": 5
}
