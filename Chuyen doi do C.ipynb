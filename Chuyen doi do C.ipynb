{
 "cells": [
  {
   "cell_type": "code",
   "execution_count": 1,
   "id": "8ef55cab-5c05-492f-ad05-1f8b04fbcc2c",
   "metadata": {},
   "outputs": [
    {
     "name": "stdin",
     "output_type": "stream",
     "text": [
      "Nhập vào giá trị độ °C muốn chuyển đổi:  40\n"
     ]
    },
    {
     "name": "stdout",
     "output_type": "stream",
     "text": [
      "Nhiệt độ tương ứng: 104.00 °F\n"
     ]
    }
   ],
   "source": [
    "do_C = float(input(\"Nhập vào giá trị độ °C muốn chuyển đổi: \"))\n",
    "do_F = (do_C * 1.8) + 32\n",
    "print(f\"Nhiệt độ tương ứng: {do_F:.2f} °F\")"
   ]
  },
  {
   "cell_type": "code",
   "execution_count": null,
   "id": "6f5bfb4e-76dc-4bd4-a5ba-6500d0bdf20e",
   "metadata": {},
   "outputs": [],
   "source": []
  }
 ],
 "metadata": {
  "kernelspec": {
   "display_name": "Python [conda env:base] *",
   "language": "python",
   "name": "conda-base-py"
  },
  "language_info": {
   "codemirror_mode": {
    "name": "ipython",
    "version": 3
   },
   "file_extension": ".py",
   "mimetype": "text/x-python",
   "name": "python",
   "nbconvert_exporter": "python",
   "pygments_lexer": "ipython3",
   "version": "3.13.5"
  }
 },
 "nbformat": 4,
 "nbformat_minor": 5
}
