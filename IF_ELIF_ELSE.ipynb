{
 "cells": [
  {
   "cell_type": "code",
   "execution_count": null,
   "id": "6e0fce2e-6e4c-413e-bedd-28cd2c11284a",
   "metadata": {},
   "outputs": [],
   "source": []
  }
 ],
 "metadata": {
  "kernelspec": {
   "display_name": "",
   "name": ""
  },
  "language_info": {
   "name": ""
  }
 },
 "nbformat": 4,
 "nbformat_minor": 5
}
