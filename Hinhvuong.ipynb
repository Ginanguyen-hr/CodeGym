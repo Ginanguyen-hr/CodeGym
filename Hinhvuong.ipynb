{
 "cells": [
  {
   "cell_type": "code",
   "execution_count": null,
   "id": "0ae47696-9a31-452b-a658-f628fd34de89",
   "metadata": {},
   "outputs": [
    {
     "name": "stdin",
     "output_type": "stream",
     "text": [
      "Nhập độ dài các cạnh của hình vuông:  20\n"
     ]
    }
   ],
   "source": [
    "import turtle\n",
    "a = int(input(\"Nhập độ dài các cạnh của hình vuông: \"))\n",
    "t = turtle.Turtle()\n",
    "t.hideturtle()\n",
    "t.pencolor(\"red\")\n",
    "edge = 0\n",
    "while edge < 4:\n",
    "    t.forward(a)\n",
    "    t.right(90)\n",
    "    edge += 1\n",
    "turtle.done()"
   ]
  },
  {
   "cell_type": "code",
   "execution_count": null,
   "id": "8dc4c9af-ac12-457f-9e31-f082dea100c5",
   "metadata": {},
   "outputs": [],
   "source": []
  }
 ],
 "metadata": {
  "kernelspec": {
   "display_name": "Python [conda env:base] *",
   "language": "python",
   "name": "conda-base-py"
  },
  "language_info": {
   "codemirror_mode": {
    "name": "ipython",
    "version": 3
   },
   "file_extension": ".py",
   "mimetype": "text/x-python",
   "name": "python",
   "nbconvert_exporter": "python",
   "pygments_lexer": "ipython3",
   "version": "3.13.5"
  }
 },
 "nbformat": 4,
 "nbformat_minor": 5
}
