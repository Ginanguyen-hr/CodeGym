{
 "cells": [
  {
   "cell_type": "code",
   "execution_count": 1,
   "id": "0b047612-da69-40b3-ac8c-44ec1f848e35",
   "metadata": {},
   "outputs": [
    {
     "name": "stdin",
     "output_type": "stream",
     "text": [
      "Bạn đã chi bao nhiêu tiền tại cửa hàng? $ 350\n"
     ]
    },
    {
     "name": "stdout",
     "output_type": "stream",
     "text": [
      "Bạn được giảm giá: $50\n",
      "Tổng số tiền bạn phải thanh toán là: $300.00\n"
     ]
    }
   ],
   "source": [
    "tien_chi = float(input(\"Bạn đã chi bao nhiêu tiền tại cửa hàng? $\"))\n",
    "if tien_chi >= 150:\n",
    "    giam_gia = 50\n",
    "elif tien_chi >= 100:\n",
    "    giam_gia = 25\n",
    "elif tien_chi >= 75:\n",
    "    giam_gia = 15\n",
    "else:\n",
    "    giam_gia = 0\n",
    "tong_thanh_toan = tien_chi - giam_gia\n",
    "print(f\"Bạn được giảm giá: ${giam_gia}\")\n",
    "print(f\"Tổng số tiền bạn phải thanh toán là: ${tong_thanh_toan:.2f}\")"
   ]
  },
  {
   "cell_type": "code",
   "execution_count": null,
   "id": "eb5d9497-d23b-4307-bd4a-d4400c2c35e4",
   "metadata": {},
   "outputs": [],
   "source": []
  }
 ],
 "metadata": {
  "kernelspec": {
   "display_name": "Python [conda env:base] *",
   "language": "python",
   "name": "conda-base-py"
  },
  "language_info": {
   "codemirror_mode": {
    "name": "ipython",
    "version": 3
   },
   "file_extension": ".py",
   "mimetype": "text/x-python",
   "name": "python",
   "nbconvert_exporter": "python",
   "pygments_lexer": "ipython3",
   "version": "3.13.5"
  }
 },
 "nbformat": 4,
 "nbformat_minor": 5
}
