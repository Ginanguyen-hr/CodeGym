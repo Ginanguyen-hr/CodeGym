{
 "cells": [
  {
   "cell_type": "code",
   "execution_count": 2,
   "id": "6257affd-e34a-41dd-9696-be5a4610e696",
   "metadata": {},
   "outputs": [],
   "source": [
    "import turtle\n",
    "turtle.pensize(5) \n",
    "turtle.pencolor(\"Blue\") "
   ]
  },
  {
   "cell_type": "code",
   "execution_count": 3,
   "id": "28321e5f-cdcc-44c3-8ee0-bc9ba5a9820f",
   "metadata": {},
   "outputs": [],
   "source": [
    "facesize = 180\n",
    "turtle.penup()\n",
    "turtle.goto(0, -180)\n",
    "turtle.pendown()\n",
    "turtle.circle(facesize)"
   ]
  },
  {
   "cell_type": "code",
   "execution_count": 4,
   "id": "43f41b71-15bb-4825-9578-e2e5b03bbca2",
   "metadata": {},
   "outputs": [],
   "source": [
    "turtle.fillcolor (\"orange\")\n",
    "turtle.penup()\n",
    "turtle.goto(-100,50)\n",
    "turtle.pendown()"
   ]
  },
  {
   "cell_type": "code",
   "execution_count": 5,
   "id": "4571d6ca-91d8-44e7-9e39-cc6ae378f560",
   "metadata": {},
   "outputs": [],
   "source": [
    "eye_size = 17.5\n",
    "turtle.begin_fill()\n",
    "turtle.circle(eye_size)\n",
    "turtle.end_fill()\n",
    "turtle.penup()\n",
    "turtle.goto(100,50)\n",
    "turtle.pendown()\n",
    "turtle.begin_fill()\n",
    "turtle.circle(eye_size)\n",
    "turtle.end_fill()"
   ]
  },
  {
   "cell_type": "code",
   "execution_count": 6,
   "id": "4b4f25e3-3c7c-4b30-9a89-0976315b7e88",
   "metadata": {},
   "outputs": [],
   "source": [
    "turtle.penup ()\n",
    "turtle.goto(0,50)\n",
    "turtle.pendown()\n",
    "turtle.circle(-70, steps=3)"
   ]
  },
  {
   "cell_type": "code",
   "execution_count": 7,
   "id": "e8c68af4-8bcf-48f6-aa03-c28e62c51695",
   "metadata": {},
   "outputs": [],
   "source": [
    "turtle.penup()\n",
    "turtle.goto(-100, -70)\n",
    "turtle.pendown()\n",
    "turtle.right(90)\n",
    "turtle.circle(100,180)\n",
    "turtle.mainloop()"
   ]
  },
  {
   "cell_type": "code",
   "execution_count": null,
   "id": "fdb02d64-6cda-4819-8870-d41149c43637",
   "metadata": {},
   "outputs": [],
   "source": []
  }
 ],
 "metadata": {
  "kernelspec": {
   "display_name": "Python [conda env:base] *",
   "language": "python",
   "name": "conda-base-py"
  },
  "language_info": {
   "codemirror_mode": {
    "name": "ipython",
    "version": 3
   },
   "file_extension": ".py",
   "mimetype": "text/x-python",
   "name": "python",
   "nbconvert_exporter": "python",
   "pygments_lexer": "ipython3",
   "version": "3.13.5"
  }
 },
 "nbformat": 4,
 "nbformat_minor": 5
}
