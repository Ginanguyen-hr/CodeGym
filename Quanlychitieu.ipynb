{
 "cells": [
  {
   "cell_type": "code",
   "execution_count": 8,
   "id": "74042514-7249-40e3-a078-ad0fa8ce5a59",
   "metadata": {},
   "outputs": [
    {
     "name": "stdout",
     "output_type": "stream",
     "text": [
      "Your expenses: [{'name': 'Coffee', 'cost': 30000, 'date': '2025-09-25'}, {'name': 'Lunch', 'cost': 50000, 'date': '2025-09-26'}]\n",
      "What do you want to do? -\n",
      "1. Add\n",
      "2. Remove\n"
     ]
    },
    {
     "name": "stdin",
     "output_type": "stream",
     "text": [
      "Select option 1 or 2:  1\n",
      "Item name:  Coffee\n",
      "Item cost:  30000\n",
      "Date (YYYY-MM-DD):  2025-09-25\n"
     ]
    },
    {
     "name": "stdout",
     "output_type": "stream",
     "text": [
      "Your expenses: [{'name': 'Coffee', 'cost': 30000, 'date': '2025-09-25'}, {'name': 'Lunch', 'cost': 50000, 'date': '2025-09-26'}, {'name': 'Coffee', 'cost': 30000, 'date': '2025-09-25'}]\n"
     ]
    }
   ],
   "source": [
    "def add_item(myTempList, item):\n",
    "    myTempList.append(item)\n",
    "def find_index_item(myTempList, item_name):\n",
    "    result = -1\n",
    "    length = len(myTempList)\n",
    "    for i in range(length):\n",
    "        if myTempList[i]['name'] == item_name:\n",
    "            result = i\n",
    "    return result\n",
    "def remove_item(myTempList, item_name):\n",
    "    index = find_index_item(myTempList, item_name)\n",
    "    if index > -1:\n",
    "        del myTempList[index]\n",
    "    else:\n",
    "        print(item_name + \" not in list\")\n",
    "expenses = [{'name': 'Coffee', 'cost': 30000, 'date': '2025-09-25'},\n",
    "    {'name': 'Lunch', 'cost': 50000, 'date': '2025-09-26'}]\n",
    "print(\"Your expenses:\", expenses)\n",
    "print(\"What do you want to do? -\\n\"\n",
    "      \"1. Add\\n\"\n",
    "      \"2. Remove\")\n",
    "option = int(input(\"Select option 1 or 2: \"))\n",
    "\n",
    "name_input = input(\"Item name: \")\n",
    "if option == 1:\n",
    "    cost_input = int(input(\"Item cost: \"))\n",
    "    date_input = input(\"Date (YYYY-MM-DD): \")\n",
    "    item = {'name': name_input, 'cost': cost_input, 'date': date_input}\n",
    "    add_item(expenses, item)\n",
    "    print(\"Your expenses:\", expenses)\n",
    "elif option == 2:\n",
    "    remove_item(expenses, name_input)\n",
    "    print(\"Your expenses:\", expenses)\n",
    "else:\n",
    "    print(\"Invalid input\")"
   ]
  },
  {
   "cell_type": "code",
   "execution_count": null,
   "id": "47abaefa-f9db-47e7-b054-66492afc344d",
   "metadata": {},
   "outputs": [],
   "source": []
  }
 ],
 "metadata": {
  "kernelspec": {
   "display_name": "Python [conda env:base] *",
   "language": "python",
   "name": "conda-base-py"
  },
  "language_info": {
   "codemirror_mode": {
    "name": "ipython",
    "version": 3
   },
   "file_extension": ".py",
   "mimetype": "text/x-python",
   "name": "python",
   "nbconvert_exporter": "python",
   "pygments_lexer": "ipython3",
   "version": "3.13.5"
  }
 },
 "nbformat": 4,
 "nbformat_minor": 5
}
