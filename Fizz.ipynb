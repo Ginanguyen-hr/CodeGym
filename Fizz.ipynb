{
 "cells": [
  {
   "cell_type": "code",
   "execution_count": 1,
   "id": "dd6971b7-bf7e-4949-85d2-ceb95da99054",
   "metadata": {},
   "outputs": [
    {
     "name": "stdin",
     "output_type": "stream",
     "text": [
      "Nhập số bắt đầu và số kết thúc, cách nhau bởi dấu cách:  2 3\n"
     ]
    },
    {
     "name": "stdout",
     "output_type": "stream",
     "text": [
      "2\n",
      "Fizz\n"
     ]
    }
   ],
   "source": [
    "start_str, end_str = input(\"Nhập số bắt đầu và số kết thúc, cách nhau bởi dấu cách: \").split()\n",
    "start = int(start_str)\n",
    "end = int(end_str)\n",
    "if end < start:\n",
    "    print(\"Số kết thúc cần lớn hơn số bắt đầu\")\n",
    "else:\n",
    "    for num in range(start, end + 1):\n",
    "        if num % 3 == 0 and num % 5 == 0:\n",
    "            print(\"FizzBuzz\")\n",
    "        elif num % 3 == 0:\n",
    "            print(\"Fizz\")\n",
    "        elif num % 5 == 0:\n",
    "            print(\"Buzz\")\n",
    "        else:\n",
    "            print(num)"
   ]
  },
  {
   "cell_type": "code",
   "execution_count": null,
   "id": "3041b698-b4e1-436d-a3cc-1caa7d147d28",
   "metadata": {},
   "outputs": [],
   "source": []
  }
 ],
 "metadata": {
  "kernelspec": {
   "display_name": "Python [conda env:base] *",
   "language": "python",
   "name": "conda-base-py"
  },
  "language_info": {
   "codemirror_mode": {
    "name": "ipython",
    "version": 3
   },
   "file_extension": ".py",
   "mimetype": "text/x-python",
   "name": "python",
   "nbconvert_exporter": "python",
   "pygments_lexer": "ipython3",
   "version": "3.13.5"
  }
 },
 "nbformat": 4,
 "nbformat_minor": 5
}
