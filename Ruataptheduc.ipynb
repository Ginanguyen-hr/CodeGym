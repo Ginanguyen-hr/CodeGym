{
 "cells": [
  {
   "cell_type": "code",
   "execution_count": 2,
   "id": "758996f1-30c7-4553-bd76-c899109a545c",
   "metadata": {},
   "outputs": [],
   "source": [
    "import turtle\n",
    "import random as r"
   ]
  },
  {
   "cell_type": "code",
   "execution_count": 3,
   "id": "7d467e29-d39b-457d-819d-a770b6940dfa",
   "metadata": {},
   "outputs": [],
   "source": [
    "t = turtle.Turtle()\n",
    "t.shape(\"turtle\")\n",
    "t.hideturtle()\n",
    "t.pensize(3)\n",
    "t.color(\"blue\")\n",
    "t.speed(1)\n",
    "t.penup()\n",
    "t.goto(-400, 0)\n",
    "t.showturtle()\n",
    "count = 0\n",
    "while count < 10:\n",
    "    down = r.randint(20, 50)\n",
    "    up = r.randint(20, 50)\n",
    "    t.pendown()\n",
    "    t.forward(down)\n",
    "    t.penup()\n",
    "    t.forward(up)\n",
    "    count += 1\n",
    "turtle.done()"
   ]
  },
  {
   "cell_type": "code",
   "execution_count": null,
   "id": "06138ab6-b206-41c8-8162-d59094f6637d",
   "metadata": {},
   "outputs": [],
   "source": []
  }
 ],
 "metadata": {
  "kernelspec": {
   "display_name": "Python [conda env:base] *",
   "language": "python",
   "name": "conda-base-py"
  },
  "language_info": {
   "codemirror_mode": {
    "name": "ipython",
    "version": 3
   },
   "file_extension": ".py",
   "mimetype": "text/x-python",
   "name": "python",
   "nbconvert_exporter": "python",
   "pygments_lexer": "ipython3",
   "version": "3.13.5"
  }
 },
 "nbformat": 4,
 "nbformat_minor": 5
}
