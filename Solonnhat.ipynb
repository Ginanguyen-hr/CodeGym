{
 "cells": [
  {
   "cell_type": "code",
   "execution_count": 1,
   "id": "a9ac8441-71e6-49ab-8aa7-e9e1b4d95264",
   "metadata": {},
   "outputs": [
    {
     "name": "stdin",
     "output_type": "stream",
     "text": [
      "Nhập các số, cách nhau bởi dấu cách:  25 40 99 33 22 11 56 89\n"
     ]
    },
    {
     "name": "stdout",
     "output_type": "stream",
     "text": [
      "Hai số lớn nhất là: 99 và 89\n"
     ]
    }
   ],
   "source": [
    "numbers = list(map(int, input(\"Nhập các số, cách nhau bởi dấu cách: \").split()))\n",
    "if len(numbers) < 2:\n",
    "    print(\"Danh sách phải có ít nhất 2 số!\")\n",
    "else:\n",
    "    numbers.sort(reverse=True)\n",
    "    max1 = numbers[0]\n",
    "    max2 = numbers[1]\n",
    "    print(\"Hai số lớn nhất là:\", max1, \"và\", max2)"
   ]
  },
  {
   "cell_type": "code",
   "execution_count": null,
   "id": "e179afd5-ebd9-40fd-bc2d-a98a80eb6544",
   "metadata": {},
   "outputs": [],
   "source": []
  }
 ],
 "metadata": {
  "kernelspec": {
   "display_name": "Python [conda env:base] *",
   "language": "python",
   "name": "conda-base-py"
  },
  "language_info": {
   "codemirror_mode": {
    "name": "ipython",
    "version": 3
   },
   "file_extension": ".py",
   "mimetype": "text/x-python",
   "name": "python",
   "nbconvert_exporter": "python",
   "pygments_lexer": "ipython3",
   "version": "3.13.5"
  }
 },
 "nbformat": 4,
 "nbformat_minor": 5
}
