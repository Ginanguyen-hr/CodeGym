{
 "cells": [
  {
   "cell_type": "code",
   "execution_count": 1,
   "id": "27702501-7b6d-42b7-b003-b61f3b08d146",
   "metadata": {},
   "outputs": [],
   "source": [
    "import turtle\n",
    "t = turtle.Turtle()\n",
    "t.shape(\"turtle\")\n",
    "t.color(\"green\")\n",
    "t.pensize(2)\n",
    "t.speed(2)\n",
    "r = 100          \n",
    "r_small = r / 2  \n",
    "count = 0\n",
    "while count < 2:\n",
    "    t.circle(r, 90)       \n",
    "    t.circle(r_small, 90) \n",
    "    count += 1\n",
    "t.hideturtle()\n",
    "turtle.done()"
   ]
  },
  {
   "cell_type": "code",
   "execution_count": null,
   "id": "972fbe78-6848-45a6-bc28-cbe904018ee1",
   "metadata": {},
   "outputs": [],
   "source": []
  }
 ],
 "metadata": {
  "kernelspec": {
   "display_name": "Python [conda env:base] *",
   "language": "python",
   "name": "conda-base-py"
  },
  "language_info": {
   "codemirror_mode": {
    "name": "ipython",
    "version": 3
   },
   "file_extension": ".py",
   "mimetype": "text/x-python",
   "name": "python",
   "nbconvert_exporter": "python",
   "pygments_lexer": "ipython3",
   "version": "3.13.5"
  }
 },
 "nbformat": 4,
 "nbformat_minor": 5
}
