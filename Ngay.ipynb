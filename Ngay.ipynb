{
 "cells": [
  {
   "cell_type": "code",
   "execution_count": 1,
   "id": "ce553d28-bd7e-4208-b9d2-b96c919c5560",
   "metadata": {},
   "outputs": [
    {
     "name": "stdin",
     "output_type": "stream",
     "text": [
      "Nhập một số từ 1 đến 7 để biết ngày trong tuần:  6\n"
     ]
    },
    {
     "name": "stdout",
     "output_type": "stream",
     "text": [
      "Saturday\n"
     ]
    }
   ],
   "source": [
    "day_number = int(input(\"Nhập một số từ 1 đến 7 để biết ngày trong tuần: \"))\n",
    "\n",
    "if day_number == 1:\n",
    "    print(\"Monday\")\n",
    "elif day_number == 2:\n",
    "    print(\"Tuesday\")\n",
    "elif day_number == 3:\n",
    "    print(\"Wednesday\")\n",
    "elif day_number == 4:\n",
    "    print(\"Thursday\")\n",
    "elif day_number == 5:\n",
    "    print(\"Friday\")\n",
    "elif day_number == 6:\n",
    "    print(\"Saturday\")\n",
    "elif day_number == 7:\n",
    "    print(\"Sunday\")\n",
    "else:\n",
    "    print(\"error, out of range\")"
   ]
  },
  {
   "cell_type": "code",
   "execution_count": null,
   "id": "71fc8ffe-715a-4443-8998-692e7d8d5d75",
   "metadata": {},
   "outputs": [],
   "source": []
  }
 ],
 "metadata": {
  "kernelspec": {
   "display_name": "Python [conda env:base] *",
   "language": "python",
   "name": "conda-base-py"
  },
  "language_info": {
   "codemirror_mode": {
    "name": "ipython",
    "version": 3
   },
   "file_extension": ".py",
   "mimetype": "text/x-python",
   "name": "python",
   "nbconvert_exporter": "python",
   "pygments_lexer": "ipython3",
   "version": "3.13.5"
  }
 },
 "nbformat": 4,
 "nbformat_minor": 5
}
