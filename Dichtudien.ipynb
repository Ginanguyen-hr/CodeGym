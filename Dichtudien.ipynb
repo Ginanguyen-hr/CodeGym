{
 "cells": [
  {
   "cell_type": "code",
   "execution_count": 1,
   "id": "29d63ab5-7f79-4c1b-b124-dfd978f4cd91",
   "metadata": {},
   "outputs": [
    {
     "name": "stdin",
     "output_type": "stream",
     "text": [
      "Nhập từ tiếng Anh cần dịch:  apple\n"
     ]
    },
    {
     "name": "stdout",
     "output_type": "stream",
     "text": [
      "Nghĩa của từ 'apple' là: quả táo\n"
     ]
    }
   ],
   "source": [
    "def translate(data, word):\n",
    "    for key in data:\n",
    "        if key == word:\n",
    "            return data[key]\n",
    "    return None  \n",
    "dictionary = {\"hello\": \"xin chào\",\n",
    "    \"apple\": \"quả táo\",\n",
    "    \"book\": \"quyển sách\",\n",
    "    \"computer\": \"máy tính\"}\n",
    "input_word = input(\"Nhập từ tiếng Anh cần dịch: \").strip().lower()\n",
    "translated_word = translate(dictionary, input_word)\n",
    "if translated_word:\n",
    "    print(f\"Nghĩa của từ '{input_word}' là: {translated_word}\")\n",
    "else:\n",
    "    print(f\"Từ '{input_word}' không có trong từ điển.\")"
   ]
  },
  {
   "cell_type": "code",
   "execution_count": null,
   "id": "35e320f7-3166-491d-addd-87de87c6f86d",
   "metadata": {},
   "outputs": [],
   "source": []
  }
 ],
 "metadata": {
  "kernelspec": {
   "display_name": "Python [conda env:base] *",
   "language": "python",
   "name": "conda-base-py"
  },
  "language_info": {
   "codemirror_mode": {
    "name": "ipython",
    "version": 3
   },
   "file_extension": ".py",
   "mimetype": "text/x-python",
   "name": "python",
   "nbconvert_exporter": "python",
   "pygments_lexer": "ipython3",
   "version": "3.13.5"
  }
 },
 "nbformat": 4,
 "nbformat_minor": 5
}
