{
 "cells": [
  {
   "cell_type": "code",
   "execution_count": 4,
   "id": "2598006b-281a-4158-b0dc-0e6a0cd0cb28",
   "metadata": {},
   "outputs": [
    {
     "name": "stdout",
     "output_type": "stream",
     "text": [
      "Tên: Nguyễn Thị Thanh Long\n",
      "Tuổi: 24\n",
      "Nơi ở: Thành phố Hồ Chí Minh\n"
     ]
    }
   ],
   "source": [
    "print(\"Tên: Nguyễn Thị Thanh Long\")\n",
    "print(\"Tuổi: 24\")\n",
    "print(\"Nơi ở: Thành phố Hồ Chí Minh\")"
   ]
  }
 ],
 "metadata": {
  "kernelspec": {
   "display_name": "Python [conda env:base] *",
   "language": "python",
   "name": "conda-base-py"
  },
  "language_info": {
   "codemirror_mode": {
    "name": "ipython",
    "version": 3
   },
   "file_extension": ".py",
   "mimetype": "text/x-python",
   "name": "python",
   "nbconvert_exporter": "python",
   "pygments_lexer": "ipython3",
   "version": "3.13.5"
  }
 },
 "nbformat": 4,
 "nbformat_minor": 5
}
