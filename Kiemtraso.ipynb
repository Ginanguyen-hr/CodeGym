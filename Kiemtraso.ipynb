{
 "cells": [
  {
   "cell_type": "code",
   "execution_count": 1,
   "id": "d1072540-7ffa-4f58-92e4-64cdc35cb0c3",
   "metadata": {},
   "outputs": [
    {
     "name": "stdin",
     "output_type": "stream",
     "text": [
      " 56\n"
     ]
    },
    {
     "name": "stdout",
     "output_type": "stream",
     "text": [
      "số chẵn\n"
     ]
    }
   ],
   "source": [
    "a = input()\n",
    "a = float(a)\n",
    "if a % 2 == 0:\n",
    "    print('số chẵn')\n",
    "elif a % 2 == 1:\n",
    "    print('số lẻ')\n",
    "else:\n",
    "    print('không phải số tự nhiên')"
   ]
  },
  {
   "cell_type": "code",
   "execution_count": null,
   "id": "ec720684-d3b4-4471-800a-12cb7446b6cc",
   "metadata": {},
   "outputs": [],
   "source": []
  }
 ],
 "metadata": {
  "kernelspec": {
   "display_name": "Python [conda env:base] *",
   "language": "python",
   "name": "conda-base-py"
  },
  "language_info": {
   "codemirror_mode": {
    "name": "ipython",
    "version": 3
   },
   "file_extension": ".py",
   "mimetype": "text/x-python",
   "name": "python",
   "nbconvert_exporter": "python",
   "pygments_lexer": "ipython3",
   "version": "3.13.5"
  }
 },
 "nbformat": 4,
 "nbformat_minor": 5
}
