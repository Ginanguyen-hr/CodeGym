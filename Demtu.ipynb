{
 "cells": [
  {
   "cell_type": "code",
   "execution_count": 2,
   "id": "e2c68fd1-bb4c-400f-a504-ea6cbab159a3",
   "metadata": {},
   "outputs": [
    {
     "name": "stdout",
     "output_type": "stream",
     "text": [
      "{'xin': 1, 'chào.': 1, 'tôi': 1, 'là': 1, 'người': 1, 'việt': 2, 'nam.': 2, 'mãi': 1, 'yêu': 1}\n"
     ]
    }
   ],
   "source": [
    "def count_words(text):\n",
    "    num_words = {}\n",
    "    text_list = text.split()\n",
    "    for word in text_list:\n",
    "        word = word.lower().strip()\n",
    "        count = num_words.get(word, 0)\n",
    "        num_words[word] = count + 1\n",
    "    return num_words\n",
    "message = \"Xin chào. Tôi là người Việt Nam. Mãi yêu Việt Nam.\"\n",
    "result = count_words(message)\n",
    "print(result)"
   ]
  },
  {
   "cell_type": "code",
   "execution_count": null,
   "id": "32c29a36-232e-4b3a-9dc6-219ef95f8083",
   "metadata": {},
   "outputs": [],
   "source": []
  },
  {
   "cell_type": "code",
   "execution_count": null,
   "id": "1be8c718-b476-4255-a083-4104384cfba6",
   "metadata": {},
   "outputs": [],
   "source": []
  }
 ],
 "metadata": {
  "kernelspec": {
   "display_name": "Python [conda env:base] *",
   "language": "python",
   "name": "conda-base-py"
  },
  "language_info": {
   "codemirror_mode": {
    "name": "ipython",
    "version": 3
   },
   "file_extension": ".py",
   "mimetype": "text/x-python",
   "name": "python",
   "nbconvert_exporter": "python",
   "pygments_lexer": "ipython3",
   "version": "3.13.5"
  }
 },
 "nbformat": 4,
 "nbformat_minor": 5
}
