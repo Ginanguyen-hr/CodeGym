{
 "cells": [
  {
   "cell_type": "code",
   "execution_count": null,
   "id": "208344a8-6aa9-4f4a-8c03-0eb066aba3d8",
   "metadata": {},
   "outputs": [
    {
     "name": "stdout",
     "output_type": "stream",
     "text": [
      "File chưa tồn tại. Danh sách trống.\n",
      "\n",
      "====== MENU QUẢN LÝ HỌC SINH ======\n",
      "1. Thêm học sinh\n",
      "2. Hiển thị danh sách học sinh\n",
      "3. Lưu danh sách vào file\n",
      "4. Đọc danh sách từ file\n",
      "5. Xóa học sinh\n",
      "6. Thoát\n"
     ]
    },
    {
     "name": "stdin",
     "output_type": "stream",
     "text": [
      "Chọn chức năng (1-6):  1\n",
      "Nhập họ tên học sinh:  Lưu Gia Hưng\n",
      "Nhập tuổi:  17\n",
      "Nhập lớp:  12A\n"
     ]
    },
    {
     "name": "stdout",
     "output_type": "stream",
     "text": [
      "Đã thêm học sinh.\n",
      "\n",
      "====== MENU QUẢN LÝ HỌC SINH ======\n",
      "1. Thêm học sinh\n",
      "2. Hiển thị danh sách học sinh\n",
      "3. Lưu danh sách vào file\n",
      "4. Đọc danh sách từ file\n",
      "5. Xóa học sinh\n",
      "6. Thoát\n"
     ]
    },
    {
     "name": "stdin",
     "output_type": "stream",
     "text": [
      "Chọn chức năng (1-6):  3\n"
     ]
    },
    {
     "name": "stdout",
     "output_type": "stream",
     "text": [
      "Đã lưu danh sách\n",
      "\n",
      "====== MENU QUẢN LÝ HỌC SINH ======\n",
      "1. Thêm học sinh\n",
      "2. Hiển thị danh sách học sinh\n",
      "3. Lưu danh sách vào file\n",
      "4. Đọc danh sách từ file\n",
      "5. Xóa học sinh\n",
      "6. Thoát\n"
     ]
    }
   ],
   "source": [
    "import os\n",
    "class Student:\n",
    "    def __init__(self, name, age, classroom):\n",
    "        self.name = name\n",
    "        self.age = age\n",
    "        self.classroom = classroom\n",
    "\n",
    "    def __str__(self):\n",
    "        return f\"Họ tên: {self.name}, Tuổi: {self.age}, Lớp: {self.classroom}\"\n",
    "\n",
    "def add_student(students):\n",
    "    name = input(\"Nhập họ tên học sinh: \")\n",
    "    age = input(\"Nhập tuổi: \")\n",
    "    classroom = input(\"Nhập lớp: \")\n",
    "    student = Student(name, age, classroom)\n",
    "    students.append(student)\n",
    "    print(\"Đã thêm học sinh.\")\n",
    "\n",
    "def show_students(students):\n",
    "    if not students:\n",
    "        print(\"Danh sách học sinh trống.\")\n",
    "    else:\n",
    "        print(\"Danh sách học sinh:\")\n",
    "        for i, s in enumerate(students, start=1):\n",
    "            print(f\"{i}. {s}\")\n",
    "\n",
    "def save_students_to_file(students, filename=\"students.txt\"):\n",
    "    with open(filename, \"w\", encoding=\"utf-8\") as f:\n",
    "        for s in students:\n",
    "            f.write(f\"{s.name},{s.age},{s.classroom}\\n\")\n",
    "    print('Đã lưu danh sách')\n",
    "\n",
    "def load_students_from_file(filename=\"students.txt\"):\n",
    "    students = []\n",
    "    if os.path.exists(filename):\n",
    "        with open(filename, \"r\", encoding=\"utf-8\") as f:\n",
    "            for line in f:\n",
    "                parts = line.strip().split(\",\")\n",
    "                if len(parts) == 3:\n",
    "                    name, age, classroom = parts\n",
    "                    students.append(Student(name, age, classroom))\n",
    "        print(\"Đã đọc danh sách học sinh từ file.\")\n",
    "    else:\n",
    "        print(\"File chưa tồn tại. Danh sách trống.\")\n",
    "    return students\n",
    "\n",
    "def delete_student(students):\n",
    "    name = input(\"Nhập tên học sinh cần xóa: \")\n",
    "    for s in students:\n",
    "        if s.name.lower() == name.lower():\n",
    "            students.remove(s)\n",
    "            print(f\"Đã xóa học sinh: {s.name}\")\n",
    "            return\n",
    "    print(\"Không tìm thấy học sinh cần xóa.\")\n",
    "\n",
    "def menu():\n",
    "    students = load_students_from_file()\n",
    "\n",
    "    while True:\n",
    "        print(\"\\n====== MENU QUẢN LÝ HỌC SINH ======\")\n",
    "        print(\"1. Thêm học sinh\")\n",
    "        print(\"2. Hiển thị danh sách học sinh\")\n",
    "        print(\"3. Lưu danh sách vào file\")\n",
    "        print(\"4. Đọc danh sách từ file\")\n",
    "        print(\"5. Xóa học sinh\")\n",
    "        print(\"6. Thoát\")\n",
    "        choice = input(\"Chọn chức năng (1-6): \")\n",
    "\n",
    "        if choice == \"1\":\n",
    "            add_student(students)\n",
    "        elif choice == \"2\":\n",
    "            show_students(students)\n",
    "        elif choice == \"3\":\n",
    "            save_students_to_file(students)\n",
    "        elif choice == \"4\":\n",
    "            students = load_students_from_file()\n",
    "        elif choice == \"5\":\n",
    "            delete_student(students)\n",
    "        elif choice == \"6\":\n",
    "            print(\"Thoát chương trình.\")\n",
    "            break\n",
    "        else:\n",
    "            print(\"Lựa chọn không hợp lệ. Vui lòng chọn lại.\")\n",
    "\n",
    "if __name__ == \"__main__\":\n",
    "    menu()"
   ]
  },
  {
   "cell_type": "code",
   "execution_count": null,
   "id": "2238b983-9c00-4e68-9280-279906544039",
   "metadata": {},
   "outputs": [],
   "source": []
  }
 ],
 "metadata": {
  "kernelspec": {
   "display_name": "Python [conda env:base] *",
   "language": "python",
   "name": "conda-base-py"
  },
  "language_info": {
   "codemirror_mode": {
    "name": "ipython",
    "version": 3
   },
   "file_extension": ".py",
   "mimetype": "text/x-python",
   "name": "python",
   "nbconvert_exporter": "python",
   "pygments_lexer": "ipython3",
   "version": "3.13.5"
  }
 },
 "nbformat": 4,
 "nbformat_minor": 5
}
