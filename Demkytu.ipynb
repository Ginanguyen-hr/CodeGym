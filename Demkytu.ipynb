{
 "cells": [
  {
   "cell_type": "code",
   "execution_count": 1,
   "id": "3d3f0611-6002-4046-88c5-82e8a426c8c7",
   "metadata": {},
   "outputs": [
    {
     "name": "stdin",
     "output_type": "stream",
     "text": [
      "Your string:  Thanh Long\n"
     ]
    },
    {
     "name": "stdout",
     "output_type": "stream",
     "text": [
      "Length: 10\n"
     ]
    }
   ],
   "source": [
    "def count_chars(txt):\n",
    "    result = 0\n",
    "    for char in txt:\n",
    "        result += 1\n",
    "    return result\n",
    "input_str = input('Your string: ')\n",
    "print('Length:', count_chars(input_str))"
   ]
  },
  {
   "cell_type": "code",
   "execution_count": null,
   "id": "6b128b61-0172-4a3b-9bf8-618f790191c8",
   "metadata": {},
   "outputs": [],
   "source": []
  }
 ],
 "metadata": {
  "kernelspec": {
   "display_name": "Python [conda env:base] *",
   "language": "python",
   "name": "conda-base-py"
  },
  "language_info": {
   "codemirror_mode": {
    "name": "ipython",
    "version": 3
   },
   "file_extension": ".py",
   "mimetype": "text/x-python",
   "name": "python",
   "nbconvert_exporter": "python",
   "pygments_lexer": "ipython3",
   "version": "3.13.5"
  }
 },
 "nbformat": 4,
 "nbformat_minor": 5
}
