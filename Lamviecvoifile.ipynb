{
 "cells": [
  {
   "cell_type": "code",
   "execution_count": 1,
   "id": "7fc0fa82-e348-44e4-8acb-2c5d164760ab",
   "metadata": {},
   "outputs": [],
   "source": [
    "with open ('Thuchanh.txt','w') as file:\n",
    "    file.write('Hello, World!\\n')\n",
    "    file.write('This is a test file.')"
   ]
  },
  {
   "cell_type": "code",
   "execution_count": 2,
   "id": "14e2eb19-08bc-4041-8ef3-11b8fabe361d",
   "metadata": {},
   "outputs": [
    {
     "name": "stdout",
     "output_type": "stream",
     "text": [
      "Hello, World!\n",
      "This is a test file.\n"
     ]
    }
   ],
   "source": [
    "with open('Thuchanh.txt', 'r') as file:\n",
    "    content = file.read()\n",
    "    print(content)"
   ]
  },
  {
   "cell_type": "code",
   "execution_count": 3,
   "id": "df896280-75cc-42c2-b03f-c4877691cddd",
   "metadata": {},
   "outputs": [],
   "source": [
    "with open('Thuchanh.txt', 'a') as file:\n",
    "    file.write('\\nAppending this line.')"
   ]
  },
  {
   "cell_type": "code",
   "execution_count": 4,
   "id": "69df86e7-2a1b-4023-b420-d178577b2337",
   "metadata": {},
   "outputs": [
    {
     "name": "stdout",
     "output_type": "stream",
     "text": [
      "Hello, World!\n",
      "This is a test file.\n",
      "Appending this line.\n"
     ]
    }
   ],
   "source": [
    "with open('Thuchanh.txt', 'r') as file:\n",
    "    content = file.read()\n",
    "    print(content)"
   ]
  },
  {
   "cell_type": "code",
   "execution_count": 5,
   "id": "d3736e24-aaf7-4ba0-9132-ee0b7610dc4b",
   "metadata": {},
   "outputs": [],
   "source": [
    "with open('Thuchanh.txt', 'w') as file:\n",
    "    file.write('')"
   ]
  },
  {
   "cell_type": "code",
   "execution_count": 6,
   "id": "0bf6fbe8-f1b5-426e-9658-ebbf927c76db",
   "metadata": {},
   "outputs": [
    {
     "name": "stdout",
     "output_type": "stream",
     "text": [
      "\n"
     ]
    }
   ],
   "source": [
    "with open('Thuchanh.txt', 'r') as file:\n",
    "    content = file.read()\n",
    "    print(content)  "
   ]
  },
  {
   "cell_type": "code",
   "execution_count": 8,
   "id": "432b87e8-76a9-4385-8a6a-585d0b3bd3df",
   "metadata": {},
   "outputs": [],
   "source": [
    "import os\n",
    "os.remove('Thuchanh.txt')"
   ]
  },
  {
   "cell_type": "code",
   "execution_count": null,
   "id": "96e3abee-a3a5-4637-b860-948d4bb979b1",
   "metadata": {},
   "outputs": [],
   "source": []
  },
  {
   "cell_type": "code",
   "execution_count": null,
   "id": "9a39d30e-3c18-48c7-92a0-70a0656092bf",
   "metadata": {},
   "outputs": [],
   "source": []
  }
 ],
 "metadata": {
  "kernelspec": {
   "display_name": "Python [conda env:base] *",
   "language": "python",
   "name": "conda-base-py"
  },
  "language_info": {
   "codemirror_mode": {
    "name": "ipython",
    "version": 3
   },
   "file_extension": ".py",
   "mimetype": "text/x-python",
   "name": "python",
   "nbconvert_exporter": "python",
   "pygments_lexer": "ipython3",
   "version": "3.13.5"
  }
 },
 "nbformat": 4,
 "nbformat_minor": 5
}
